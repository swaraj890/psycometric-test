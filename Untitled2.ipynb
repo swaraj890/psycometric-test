{
  "nbformat": 4,
  "nbformat_minor": 0,
  "metadata": {
    "colab": {
      "provenance": [],
      "authorship_tag": "ABX9TyPxcalO0asA2JBOGKofoPOU",
      "include_colab_link": true
    },
    "kernelspec": {
      "name": "python3",
      "display_name": "Python 3"
    },
    "language_info": {
      "name": "python"
    }
  },
  "cells": [
    {
      "cell_type": "markdown",
      "metadata": {
        "id": "view-in-github",
        "colab_type": "text"
      },
      "source": [
        "<a href=\"https://colab.research.google.com/github/swaraj890/psycometric-test/blob/main/Untitled2.ipynb\" target=\"_parent\"><img src=\"https://colab.research.google.com/assets/colab-badge.svg\" alt=\"Open In Colab\"/></a>"
      ]
    },
    {
      "cell_type": "code",
      "source": [
        "import re\n",
        "import seaborn as sns\n",
        "import matplotlib.pyplot as plt\n",
        "\n",
        "def is_valid_date(date_string):\n",
        "    return bool(re.match(r'^\\d{2}/\\d{2}/\\d{4}$', date_string))\n",
        "\n",
        "def get_valid_date():\n",
        "    while True:\n",
        "        dob = input(\"Please enter your date of birth (DD/MM/YYYY): \")\n",
        "        if is_valid_date(dob):\n",
        "            return dob\n",
        "        else:\n",
        "            print(\"Invalid date format. Please use the format DD/MM/YYYY.\")\n",
        "\n",
        "def get_valid_response(question):\n",
        "    while True:\n",
        "        response = input(f\"{question} (Scale 0-5): \")\n",
        "        if response.isdigit() and 0 <= int(response) <= 5:\n",
        "            return int(response)\n",
        "        else:\n",
        "            print(\"Invalid response. Please enter a number between 0 and 5.\")\n",
        "\n",
        "# Step 1: Welcome message\n",
        "print(\"Welcome to the Psychometric Test!\")\n",
        "\n",
        "# Step 2: Ask for name and date of birth\n",
        "name = input(\"Please enter your name: \")\n",
        "dob = get_valid_date()\n",
        "\n",
        "# Step 3: Ask 5 questions for each domain and calculate scores\n",
        "domains = [\"Openness\", \"Conscientiousness\", \"Extraversion\", \"Agreeableness\", \"Neuroticism\"]\n",
        "questions = {\n",
        "    \"Openness\": [\"Do you find joy in trying new things, even if they're unfamiliar?\", \"Are you curious about diverse cultures and eager to learn about them?\", \"Do you often come up with creative solutions and ideas?\", \"Does exploring new experiences and ideas excite you?\", \"Do you prefer to find your joy in familiar routines and avoid unnecessary risks?\"],\n",
        "    \"Conscientiousness\": [\"Do you consistently finish tasks, even if challenging?\", \"Do you enjoy planning ahead and sticking to your schedules?\", \"Are you attentive to details and accuracy in your work and efforts?\", \"Do you naturally find organization and tidiness satisfying?\", \"Do you sometimes find it helpful to take breaks or adjust plans to stay energized?\"],\n",
        "    \"Extraversion\": [\"Do you feel comfortable talking to new people and making connections?\", \"Do you find yourself enjoying being the center of attention and sharing jokes?\", \"Do you feel drained after spending too much time alone?\", \"Do you find yourself energized and enthusiastic in social gatherings?\", \"Do you prefer smaller, more intimate settings for conversations and interactions?\"],\n",
        "    \"Agreeableness\": [\"Do you value finding solutions that everyone can be happy with?\", \"Do you trust others and believe in their good intentions?\", \"Do you often prioritize keeping the peace and avoiding conflict?\", \"Do you enjoy helping others and going out of your way for loved ones?\", \"Do you stand up for yourself and express your needs when necessary?\"],\n",
        "    \"Neuroticism\": [\"Do you sometimes worry about things that might go wrong, even if unlikely?\", \"Do you experience occasional frustration when things don't go as planned?\", \"Do you feel a range of emotions, both positive and negative?\", \"Do you find certain situations or challenges overwhelming or stressful?\", \"Do you generally find yourself calm and relaxed, even in challenging situations?\"],\n",
        "}\n",
        "\n",
        "scores = {}\n",
        "for domain in domains:\n",
        "    score = 0\n",
        "    for question in questions[domain]:\n",
        "        response = get_valid_response(question)\n",
        "        score += response\n",
        "    scores[domain] = score\n",
        "\n",
        "# Step 4: Represent scores on a bar graph using Seaborn\n",
        "plt.figure(figsize=(6, 3))\n",
        "sns.barplot(x=list(scores.values()), y=list(scores.keys()), orient='h', palette='viridis', saturation=0.5, ci=None)\n",
        "plt.xlabel(\"Scores\")\n",
        "plt.ylabel(\"Domains\")\n",
        "plt.title(\"Psychometric Test Scores\")\n",
        "plt.show()\n",
        "\n",
        "# Brief definitions of each domain\n",
        "print(\"\\n**Domain Definitions:**\")\n",
        "print(\"1. Openness: Willingness to explore new ideas and experiences.\")\n",
        "print(\"2. Conscientiousness: Organized, detail-oriented, and reliable.\")\n",
        "print(\"3. Extraversion: Outgoing, social, and enjoys the company of others.\")\n",
        "print(\"4. Agreeableness: Cooperative, empathetic, and values harmonious relationships.\")\n",
        "print(\"5. Neuroticism: Reflects emotional stability. Lower scores indicate stability.\")\n",
        "\n",
        "# Step 5: Determine the strongest domains\n",
        "sorted_domains = sorted(scores, key=scores.get, reverse=True)\n",
        "strongest_domains = sorted_domains[:2]\n",
        "\n",
        "# Step 6: Print information about the strongest domains (excluding Neuroticism)\n",
        "print(\"\\n**Strengths:**\")\n",
        "strengths_without_neuroticism = [domain for domain in strongest_domains if domain != \"Neuroticism\"]\n",
        "print(f\"Your strengths lie in {', '.join(strengths_without_neuroticism)}.\")\n",
        "print(\"\\n**Positive Lines:**\")\n",
        "print(\"Your high scores in these domains suggest that you possess certain positive traits.\")\n",
        "\n",
        "# Step 7: Print information about the weakest domain (excluding Neuroticism)\n",
        "weakest_domain_without_neuroticism = min((domain for domain in scores if domain != \"Neuroticism\"), key=scores.get)\n",
        "\n",
        "print(\"\\n**Areas for Improvement:**\")\n",
        "print(f\"You may want to focus on improving in {weakest_domain_without_neuroticism}.\")\n",
        "print(\"\\n**Improvement Lines:**\")\n",
        "print(f\"Identifying areas for improvement in {weakest_domain_without_neuroticism} can lead to personal and professional growth.\")\n",
        "\n",
        "# Step 8: Evaluate Neuroticism score compared to the average score of other domains\n",
        "average_score_without_neuroticism = sum(scores[domain] for domain in scores if domain != \"Neuroticism\") / 4\n",
        "print(\"\\n**Neuroticism-Specific Evaluation:**\")\n",
        "if scores[\"Neuroticism\"] > average_score_without_neuroticism:\n",
        "    print(\"Your Neuroticism score is higher than the average score across other domains.\")\n",
        "    print(\"You may need to learn how to perform well under pressure and handle emotions effectively.\")\n",
        "else:\n",
        "    print(\"Your Neuroticism score is lower than the average score across other domains.\")\n",
        "    print(\"You have good skills in performing well under pressure and handling emotions.\")\n",
        "    print(\"\\n**Additional Information:**\")\n",
        "    print(\"Having a lower Neuroticism score suggests that you tend to remain calm and composed, even in challenging situations.\")\n",
        "    print(\"This can be an advantage as it indicates emotional stability and resilience.\")\n",
        "#"
      ],
      "metadata": {
        "colab": {
          "base_uri": "https://localhost:8080/"
        },
        "id": "8pfFKqAueO5l",
        "outputId": "199512de-573d-45f1-b917-3541b8349d4d"
      },
      "execution_count": null,
      "outputs": [
        {
          "output_type": "stream",
          "name": "stdout",
          "text": [
            "Welcome to the Psychometric Test!\n"
          ]
        }
      ]
    }
  ]
}